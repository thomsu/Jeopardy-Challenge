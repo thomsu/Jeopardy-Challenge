{
 "cells": [
  {
   "cell_type": "code",
   "execution_count": 1,
   "id": "coordinated-competition",
   "metadata": {},
   "outputs": [],
   "source": [
    "import os\n",
    "import sys\n",
    "import logging\n",
    "from tqdm import tqdm\n",
    "import requests\n",
    "import lxml\n",
    "from bs4 import BeautifulSoup\n",
    "import pandas as pd"
   ]
  },
  {
   "cell_type": "code",
   "execution_count": 2,
   "id": "assured-benefit",
   "metadata": {},
   "outputs": [],
   "source": [
    "debugger_dict = {}\n",
    "\n",
    "logger = logging.getLogger('Jeopardy Parser')\n",
    "f_handler = logging.FileHandler('technical_issues.log')\n",
    "f_handler.setLevel(logging.INFO)\n",
    "f_format = logging.Formatter('%(name)s - %(levelname)s - %(message)s')\n",
    "f_handler.setFormatter(f_format)\n",
    "logger.addHandler(f_handler)\n",
    "\n",
    "def get_categories(jeopardy_round):\n",
    "    categories = []\n",
    "    for c in jeopardy_round.find_all('td', class_='category_name'):\n",
    "        categories.append(c.get_text().title())\n",
    "    \n",
    "    return categories\n",
    "    \n",
    "def clue_parser(jeopardy_round, contestants):\n",
    "    rows_to_add = []\n",
    "    categories = get_categories(jeopardy_round)\n",
    "    \n",
    "    for c in jeopardy_round.find_all('td', class_='clue_text'):\n",
    "        rows_to_add.append([categories[int(c.get('id')[-3:-2])-1], c.get_text()])\n",
    "\n",
    "    for i, c in enumerate(jeopardy_round.find_all('div', onmouseover=True)):\n",
    "        c = BeautifulSoup(c.get('onmouseover'))\n",
    "        rows_to_add[i].append(c.find('em', class_='correct_response').get_text())\n",
    "        if c.find('td', class_='right'):\n",
    "            nicknames = [n.get_text().replace(\"\\\\'\", \"'\") for n in c.find_all('td', class_='right')]\n",
    "            names = [contestants[n][0] for n in nicknames]\n",
    "            rows_to_add[i].append(' and '.join(names))\n",
    "        else:\n",
    "            rows_to_add[i].append(None)\n",
    "        if c.find_all('td', class_='wrong') and c.find_all('td', class_='wrong')[-1].get_text() == 'Triple Stumper':\n",
    "            rows_to_add[i].append(True)\n",
    "        else:\n",
    "            rows_to_add[i].append(False)\n",
    "        if c.find_all('td', class_='wrong') and len(c.find_all('td', class_='wrong')) == 4:\n",
    "            rows_to_add[i].append(True)\n",
    "        else:\n",
    "            rows_to_add[i].append(False)\n",
    "     \n",
    "    for i, c in enumerate(jeopardy_round.find_all('table', class_='clue_header')):\n",
    "        if c.find('td', class_='clue_value'):\n",
    "            rows_to_add[i].append(c.find('td', class_='clue_value').get_text())\n",
    "            rows_to_add[i].append(False)\n",
    "        else:\n",
    "            rows_to_add[i].append(c.find('td', class_='clue_value_daily_double').get_text()[4:])\n",
    "            rows_to_add[i].append(True)\n",
    "            \n",
    "    for i, c in enumerate(jeopardy_round.find_all('td', class_='clue_order_number')):\n",
    "        rows_to_add[i].append(c.get_text())\n",
    "    \n",
    "    return rows_to_add\n",
    "    \n",
    "def round_parser(show_body, show_round, contestants, episode, date):\n",
    "    jeopardy_round = show_body.find('div', id=show_round)\n",
    "    logger = logging.getLogger('Jeopardy Parser')\n",
    "    \n",
    "    if not jeopardy_round:\n",
    "        logger.warning(f\"Issues found while parsing clues in {show_round}. Div tag for round not detected. {debugger_dict['url']}\")\n",
    "        return pd.DataFrame()\n",
    "        \n",
    "    rows_to_add = clue_parser(jeopardy_round, contestants)\n",
    "    \n",
    "    colnames = ['Category', 'Clue', 'Correct Response', 'Answered Correctly', 'Triple Stumper', 'All Wrong Answers', 'Clue Value', 'Daily Double',\n",
    "                'Selection Order']\n",
    "    show_df = pd.DataFrame(columns=colnames)\n",
    "    \n",
    "    for row in rows_to_add:\n",
    "        show_df = show_df.append(pd.Series(row, index=colnames), ignore_index=True)\n",
    "        \n",
    "    show_df['Episode'] = episode\n",
    "    show_df['Date First Aired'] = date\n",
    "    show_df['Round'] = jeopardy_round.find('h2').get_text()\n",
    "    \n",
    "    return show_df\n",
    "    \n",
    "def get_nickname(show_contestants, nickname, name_check, matched):\n",
    "    debugger_dict['name_check'] = name_check\n",
    "    if not name_check:\n",
    "        return nickname\n",
    "    \n",
    "    logger = logging.getLogger('Jeopardy Parser')\n",
    "    \n",
    "    lookup = {p.get_text().split(', ', 1)[0].split()[0] for p in show_contestants.table.td.next_sibling.next_sibling.find_all('p')}\n",
    "    for name in matched:\n",
    "        lookup.discard(name)\n",
    "    \n",
    "    if len(name_check.difference(lookup)) == 1:\n",
    "        return name_check.difference(lookup).pop()\n",
    "    \n",
    "    name_check, lookup = sorted(list(name_check.difference(lookup))), sorted(list(lookup.difference(name_check)))\n",
    "    \n",
    "    for idx, (name1, name2) in enumerate(zip(name_check, lookup)):\n",
    "        if nickname == name2:\n",
    "            logger.warning(f\"Issues found with contestant names. ({name1}, {name2}) {debugger_dict['url']}.\")\n",
    "            return name1\n",
    "\n",
    "def team_contestants_parser(show_contestants, episode, date, name_check, terminate_control):\n",
    "    contestants = {}\n",
    "    logger = logging.getLogger('Jeopardy Parser')\n",
    "    \n",
    "    if terminate_control:\n",
    "        try:\n",
    "            name_check = {s for s in show_contestants.find('div', id='double_jeopardy_round').table.find_next_sibling('table').tr.stripped_strings}\n",
    "            terminate_control = False\n",
    "        except AttributeError:\n",
    "            logger.warning(f\"Issues found while searching for teams. Unable to verify teams. {debugger_dict['url']}\")\n",
    "    \n",
    "    teams = [tn for t in show_contestants.find(id='contestants_table').find_all('h3') for tn in [t.get_text().split(' (')[0]]*3]\n",
    "    leaders = [tn.get_text().split()[1] for tn in show_contestants.find(id='contestants_table').find_all('h3')]\n",
    "    member_lookup = {}\n",
    "    occupation_lookup = {}\n",
    "    place_lookup = {}\n",
    "    \n",
    "    for c, team in zip(show_contestants.find_all('p', class_='contestants'), teams):\n",
    "        show_round, bio = c.get_text().split(': ', 1)\n",
    "        name, bio = bio.split(', ', 1)\n",
    "        contestants[name.split(' ')[0]] = [f'{name} ({team})']\n",
    "        member_lookup[team] = {**member_lookup.get(team, {}), **{show_round.split(' the ', 1)[1]: name}}\n",
    "        occupation_lookup[team] = {**occupation_lookup.get(team, {}), **{name: bio.split(' from ', 1)[0]}}\n",
    "        place_lookup[team] = {**place_lookup.get(team, {}), **{name: bio.split(' from ', 1)[1]}}\n",
    "    \n",
    "    for l in leaders:\n",
    "        contestants[l].append({'Team '+l: member_lookup['Team '+l]})\n",
    "        contestants[l].append(occupation_lookup['Team '+l])\n",
    "        contestants[l].append(place_lookup['Team '+l])\n",
    "        contestants[l].extend([episode, date])\n",
    "    \n",
    "    debugger_dict['contestants'] = contestants\n",
    "    final_round = show_contestants.find('div', id='final_jeopardy_round')\n",
    "    \n",
    "    if final_round:\n",
    "        wagers = [i.get_text().replace(\"\\\\'\", \"'\") for i in BeautifulSoup(final_round.find('div', onmouseover=True).get('onmouseover')).table.find_all('td')]\n",
    "    \n",
    "        for c, a, w in zip(wagers[::3], wagers[1::3], wagers[2::3]):\n",
    "            contestants[contestants[c][0].split('(')[1][5:-1]].append(final_round.find('td', class_='category_name').get_text().title())\n",
    "            contestants[contestants[c][0].split('(')[1][5:-1]].append(final_round.find('td', class_='clue_text').get_text())\n",
    "            contestants[contestants[c][0].split('(')[1][5:-1]].append(BeautifulSoup(final_round.find('div', onmouseover=True).get('onmouseover')).find('em').get_text())\n",
    "            contestants[contestants[c][0].split('(')[1][5:-1]].extend([a, w])\n",
    "    else:\n",
    "        for l in leaders:\n",
    "            contestants[l].extend([None, None, None, None, None])\n",
    "            logger.warning(f\"Issues found while parsing final jeopardy round. Div tag for round missing {debugger_dict['url']}\")\n",
    "            \n",
    "    for show_round in ['jeopardy_round', 'double_jeopardy_round', 'final_jeopardy_round']:\n",
    "        try:\n",
    "            for c in show_contestants.find('div', id=show_round).table.find_next_siblings('table'):\n",
    "                for name, score in zip(c.tr.find_all('td'), c.tr.find_next_sibling('tr').find_all('td')):\n",
    "                    contestants[name.get_text().split()[1]].append(score.get_text())\n",
    "        except:\n",
    "            for l in leaders:\n",
    "                if show_round != 'double_jeopardy_round':\n",
    "                    contestants[l].extend([None, None])\n",
    "                else:\n",
    "                    contestants[l].append(None)\n",
    "            logger.warning(f\"Issues found while parsing {show_round}. Div tag for round missing. {debugger_dict['url']}\")\n",
    "        \n",
    "    return contestants\n",
    "    \n",
    "def contestants_parser(show_contestants, episode, date):\n",
    "    contestants, matched = {}, []\n",
    "    terminate_control = False\n",
    "    logger = logging.getLogger('Jeopardy Parser')\n",
    "    \n",
    "    try:\n",
    "        name_check = {s for s in show_contestants.find('div', id='jeopardy_round').table.find_next_sibling('table').tr.stripped_strings}\n",
    "    except AttributeError:\n",
    "        try:\n",
    "            name_check = {s for s in show_contestants.find('div', id='double_jeopardy_round').table.find_next_sibling('table').tr.stripped_strings}\n",
    "        except AttributeError:\n",
    "            name_check = {}\n",
    "            terminate_control = True\n",
    "            logger.warning(f\"Issues found while searching for contestants names. Unable to verify contestant names. {debugger_dict['url']}\")\n",
    "    \n",
    "    if name_check == {n.get_text().split(' (')[0] for n in show_contestants.find(id='contestants_table').find_all('h3') if n}:\n",
    "        return team_contestants_parser(show_contestants, episode, date, name_check, terminate_control)\n",
    "    \n",
    "    for c in show_contestants.find_all('p', class_='contestants'):\n",
    "        name, bio = c.get_text().split(', ', 1)\n",
    "        nickname = name.split()[0]\n",
    "        \n",
    "        if name_check and nickname in name_check:\n",
    "            name_check.discard(nickname)\n",
    "            matched.append(nickname)\n",
    "        else:\n",
    "            nickname = get_nickname(show_contestants, nickname, name_check.copy(), matched)\n",
    "        \n",
    "        if 'originally' in bio:\n",
    "            occupation, place = bio.split(' originally from ')\n",
    "        else:\n",
    "            occupation, place = bio.split(' from ', 1)\n",
    "        if '(' in place:\n",
    "            place = place.split(' (', 1)[0]\n",
    "            \n",
    "        contestants[nickname] = [name, occupation, place, episode, date]\n",
    "    \n",
    "    debugger_dict['contestants'] = contestants\n",
    "    \n",
    "    if terminate_control:\n",
    "        return contestants\n",
    "    \n",
    "    name_lookup = set(contestants.keys())\n",
    "    final_round = show_contestants.find('div', id='final_jeopardy_round')\n",
    "    \n",
    "    if final_round:\n",
    "        for c in contestants.values():\n",
    "            c.append(final_round.find('td', class_='category_name').get_text().title())\n",
    "            c.append(final_round.find('td', class_='clue_text').get_text())\n",
    "            c.append(BeautifulSoup(final_round.find('div', onmouseover=True).get('onmouseover')).find('em').get_text())\n",
    "    \n",
    "        wagers = [i.get_text().replace(\"\\\\'\", \"'\") for i in BeautifulSoup(final_round.find('div', onmouseover=True).get('onmouseover')).table.find_all('td')]\n",
    "    \n",
    "        for c, a, w in zip(wagers[::3], wagers[1::3], wagers[2::3]):\n",
    "            name_lookup.discard(c)\n",
    "            contestants[c].extend([a, w])\n",
    "\n",
    "        if name_lookup:\n",
    "            while name_lookup:\n",
    "                c = name_lookup.pop()\n",
    "                contestants[c].extend([None, None])\n",
    "    else:        \n",
    "        for c in contestants.values():\n",
    "            c.extend([None, None, None, None, None])\n",
    "        logger.warning(f\"Issues found while parsing final jeopardy round. Div tag for round missing {debugger_dict['url']}\")\n",
    "    \n",
    "    for show_round in ['jeopardy_round', 'double_jeopardy_round', 'final_jeopardy_round']:\n",
    "        try:\n",
    "            for c in show_contestants.find('div', id=show_round).table.find_next_siblings('table'):\n",
    "                for name, score in zip(c.tr.find_all('td'), c.tr.find_next_sibling('tr').find_all('td')):\n",
    "                    contestants[name.get_text()].append(score.get_text())\n",
    "        except:\n",
    "            for c in contestants.values():\n",
    "                if show_round != 'double_jeopardy_round':\n",
    "                    c.extend([None, None])\n",
    "                else:\n",
    "                    c.append(None)\n",
    "            logger.warning(f\"Issues found while parsing {show_round}. Div tag for round missing. {debugger_dict['url']}\")\n",
    "        \n",
    "    return contestants\n",
    "\n",
    "def show_parser(contestants_df, season_df, url):\n",
    "    debugger_dict['url'] = url\n",
    "    show_page = requests.get(url)\n",
    "    parsed_show = BeautifulSoup(show_page.content, 'lxml')\n",
    "    show_body = parsed_show.find('div', id='content')\n",
    "    episode, date = show_body.find('h1').get_text().split(' - ')\n",
    "    \n",
    "    debugger_dict['body_content'] = show_body\n",
    "    logger = logging.getLogger('Jeopardy Parser')\n",
    "    \n",
    "    contestants = contestants_parser(show_body, episode, date)\n",
    "    \n",
    "    for show_round in ['jeopardy_round', 'double_jeopardy_round']:\n",
    "        round_df = round_parser(show_body, show_round, contestants, episode, date)\n",
    "        if not round_df.empty:\n",
    "            season_df = pd.concat([season_df, round_df], ignore_index=True)\n",
    "    \n",
    "    for row in contestants.values():\n",
    "        if len(row) >= 14:\n",
    "            if '(Team' in row[0]:\n",
    "                row.pop(0)\n",
    "            contestants_df = contestants_df.append(pd.Series(row[:14], index=contestants_df.columns), ignore_index=True)\n",
    "        else:\n",
    "            logger.warning(f\"Issues found with contestants info. Contestants' data not parsed. {url}\")\n",
    "        \n",
    "    return contestants_df, season_df  \n",
    "\n",
    "def season_parser(contestants_df, season_link):\n",
    "    show_links = []\n",
    "    season_page = requests.get(season_link)\n",
    "    parsed_season = BeautifulSoup(season_page.content, 'lxml')\n",
    "    season_body = parsed_season.find('div', id='content')\n",
    "\n",
    "    for a in season_body.find_all('a', href=True): \n",
    "        if a.text and a['href'].startswith('https://www.j-archive.com/showgame.php?game_id'): \n",
    "            show_links.append(a['href'])          \n",
    "          \n",
    "    colnames = ['Category', 'Clue', 'Correct Response', 'Answered Correctly', 'Triple Stumper', 'All Wrong Answers', 'Clue Value', 'Daily Double',\n",
    "                'Selection Order', 'Episode', 'Date First Aired', 'Round']\n",
    "    season_df = pd.DataFrame(columns=colnames)\n",
    "    \n",
    "    print(f\"Scraping Season {season_link.split('=')[-1]}\")\n",
    "    \n",
    "    for url in tqdm(show_links[::-1], 'Season Parser Progress'):\n",
    "        contestants_df, season_df = show_parser(contestants_df, season_df, url)\n",
    "        debugger_dict.clear()\n",
    "        \n",
    "    file_path = './data'\n",
    "    \n",
    "    if not os.path.exists(file_path):\n",
    "        os.makedirs(file_path)\n",
    "\n",
    "    season_df.to_csv(file_path+'/jeopardy_season_'+season_link.split('=')[-1]+'.csv', index=False)\n",
    "    contestants_df.to_csv(file_path+'/contestants.csv', index=False)\n",
    "    \n",
    "    return contestants_df\n",
    "\n",
    "def jeopardy_parser():\n",
    "    season_links = []\n",
    "    \n",
    "    main_page = requests.get('https://j-archive.com/listseasons.php')\n",
    "    parsed_main = BeautifulSoup(main_page.content, 'lxml')\n",
    "    main_body = parsed_main.find('div', id = 'content')\n",
    "    \n",
    "    for a in main_body.find_all('a', href=True): \n",
    "        if a.text: \n",
    "            season_links.append('https://j-archive.com/'+a['href'])\n",
    "            \n",
    "    colnames = ['Contestant Name', 'Occupation', 'Location', 'Episode', 'Date First Aired', 'Final Jeopardy Category', 'Final Jeopardy Clue',\n",
    "                'Correct Answer', 'Contestant Written Response', 'Contestant Wager', 'First Break Score', 'Jeopardy Round Score',\n",
    "                'Double Jeopardy Round Score', 'Final Jeopardy Score']\n",
    "    contestants_df = pd.DataFrame(columns=colnames)\n",
    "    \n",
    "    for url in season_links[-2::-1]:\n",
    "        contestants_df = season_parser(contestants_df, url)\n",
    "    \n",
    "    return\n",
    "        "
   ]
  },
  {
   "cell_type": "code",
   "execution_count": 3,
   "id": "artificial-brand",
   "metadata": {},
   "outputs": [
    {
     "name": "stderr",
     "output_type": "stream",
     "text": [
      "Season Parser Progress:   0%|          | 0/52 [00:00<?, ?it/s]"
     ]
    },
    {
     "name": "stdout",
     "output_type": "stream",
     "text": [
      "Scraping Season 1\n"
     ]
    },
    {
     "name": "stderr",
     "output_type": "stream",
     "text": [
      "Season Parser Progress: 100%|██████████| 52/52 [01:17<00:00,  1.49s/it]\n",
      "Season Parser Progress:   0%|          | 0/77 [00:00<?, ?it/s]"
     ]
    },
    {
     "name": "stdout",
     "output_type": "stream",
     "text": [
      "Scraping Season 2\n"
     ]
    },
    {
     "name": "stderr",
     "output_type": "stream",
     "text": [
      "Season Parser Progress: 100%|██████████| 77/77 [01:45<00:00,  1.37s/it]\n",
      "Season Parser Progress:   0%|          | 0/141 [00:00<?, ?it/s]"
     ]
    },
    {
     "name": "stdout",
     "output_type": "stream",
     "text": [
      "Scraping Season 3\n"
     ]
    },
    {
     "name": "stderr",
     "output_type": "stream",
     "text": [
      "Season Parser Progress: 100%|██████████| 141/141 [03:30<00:00,  1.50s/it]\n",
      "Season Parser Progress:   0%|          | 0/168 [00:00<?, ?it/s]"
     ]
    },
    {
     "name": "stdout",
     "output_type": "stream",
     "text": [
      "Scraping Season 4\n"
     ]
    },
    {
     "name": "stderr",
     "output_type": "stream",
     "text": [
      "Season Parser Progress: 100%|██████████| 168/168 [04:21<00:00,  1.56s/it]\n",
      "Season Parser Progress:   0%|          | 0/151 [00:00<?, ?it/s]"
     ]
    },
    {
     "name": "stdout",
     "output_type": "stream",
     "text": [
      "Scraping Season 5\n"
     ]
    },
    {
     "name": "stderr",
     "output_type": "stream",
     "text": [
      "Season Parser Progress: 100%|██████████| 151/151 [03:54<00:00,  1.55s/it]\n",
      "Season Parser Progress:   0%|          | 0/169 [00:00<?, ?it/s]"
     ]
    },
    {
     "name": "stdout",
     "output_type": "stream",
     "text": [
      "Scraping Season 6\n"
     ]
    },
    {
     "name": "stderr",
     "output_type": "stream",
     "text": [
      "Season Parser Progress: 100%|██████████| 169/169 [03:53<00:00,  1.38s/it]\n",
      "Season Parser Progress:   0%|          | 0/13 [00:00<?, ?it/s]"
     ]
    },
    {
     "name": "stdout",
     "output_type": "stream",
     "text": [
      "Scraping Season superjeopardy\n"
     ]
    },
    {
     "name": "stderr",
     "output_type": "stream",
     "text": [
      "Season Parser Progress: 100%|██████████| 13/13 [00:20<00:00,  1.62s/it]\n",
      "Season Parser Progress:   0%|          | 0/93 [00:00<?, ?it/s]"
     ]
    },
    {
     "name": "stdout",
     "output_type": "stream",
     "text": [
      "Scraping Season 7\n"
     ]
    },
    {
     "name": "stderr",
     "output_type": "stream",
     "text": [
      "Season Parser Progress: 100%|██████████| 93/93 [02:56<00:00,  1.90s/it]\n",
      "Season Parser Progress:   0%|          | 0/115 [00:00<?, ?it/s]"
     ]
    },
    {
     "name": "stdout",
     "output_type": "stream",
     "text": [
      "Scraping Season 8\n"
     ]
    },
    {
     "name": "stderr",
     "output_type": "stream",
     "text": [
      "Season Parser Progress: 100%|██████████| 115/115 [02:56<00:00,  1.53s/it]\n",
      "Season Parser Progress:   0%|          | 0/106 [00:00<?, ?it/s]"
     ]
    },
    {
     "name": "stdout",
     "output_type": "stream",
     "text": [
      "Scraping Season 9\n"
     ]
    },
    {
     "name": "stderr",
     "output_type": "stream",
     "text": [
      "Season Parser Progress: 100%|██████████| 106/106 [02:58<00:00,  1.68s/it]\n",
      "Season Parser Progress:   0%|          | 0/91 [00:00<?, ?it/s]"
     ]
    },
    {
     "name": "stdout",
     "output_type": "stream",
     "text": [
      "Scraping Season 10\n"
     ]
    },
    {
     "name": "stderr",
     "output_type": "stream",
     "text": [
      "Season Parser Progress: 100%|██████████| 91/91 [02:24<00:00,  1.59s/it]\n",
      "Season Parser Progress:   0%|          | 0/87 [00:00<?, ?it/s]"
     ]
    },
    {
     "name": "stdout",
     "output_type": "stream",
     "text": [
      "Scraping Season 11\n"
     ]
    },
    {
     "name": "stderr",
     "output_type": "stream",
     "text": [
      "Season Parser Progress: 100%|██████████| 87/87 [02:16<00:00,  1.56s/it]\n",
      "Season Parser Progress:   0%|          | 0/178 [00:00<?, ?it/s]"
     ]
    },
    {
     "name": "stdout",
     "output_type": "stream",
     "text": [
      "Scraping Season 12\n"
     ]
    },
    {
     "name": "stderr",
     "output_type": "stream",
     "text": [
      "Season Parser Progress: 100%|██████████| 178/178 [04:54<00:00,  1.65s/it]\n",
      "Season Parser Progress:   0%|          | 0/215 [00:00<?, ?it/s]"
     ]
    },
    {
     "name": "stdout",
     "output_type": "stream",
     "text": [
      "Scraping Season 13\n"
     ]
    },
    {
     "name": "stderr",
     "output_type": "stream",
     "text": [
      "Season Parser Progress: 100%|██████████| 215/215 [05:04<00:00,  1.41s/it]\n",
      "Season Parser Progress:   0%|          | 0/229 [00:00<?, ?it/s]"
     ]
    },
    {
     "name": "stdout",
     "output_type": "stream",
     "text": [
      "Scraping Season 14\n"
     ]
    },
    {
     "name": "stderr",
     "output_type": "stream",
     "text": [
      "Season Parser Progress: 100%|██████████| 229/229 [05:00<00:00,  1.31s/it]\n",
      "Season Parser Progress:   0%|          | 0/229 [00:00<?, ?it/s]"
     ]
    },
    {
     "name": "stdout",
     "output_type": "stream",
     "text": [
      "Scraping Season 15\n"
     ]
    },
    {
     "name": "stderr",
     "output_type": "stream",
     "text": [
      "Season Parser Progress: 100%|██████████| 229/229 [04:36<00:00,  1.21s/it]\n",
      "Season Parser Progress:   0%|          | 0/230 [00:00<?, ?it/s]"
     ]
    },
    {
     "name": "stdout",
     "output_type": "stream",
     "text": [
      "Scraping Season 16\n"
     ]
    },
    {
     "name": "stderr",
     "output_type": "stream",
     "text": [
      "Season Parser Progress: 100%|██████████| 230/230 [04:40<00:00,  1.22s/it]\n",
      "Season Parser Progress:   0%|          | 0/230 [00:00<?, ?it/s]"
     ]
    },
    {
     "name": "stdout",
     "output_type": "stream",
     "text": [
      "Scraping Season 17\n"
     ]
    },
    {
     "name": "stderr",
     "output_type": "stream",
     "text": [
      "Season Parser Progress: 100%|██████████| 230/230 [04:37<00:00,  1.21s/it]\n",
      "Season Parser Progress:   0%|          | 0/229 [00:00<?, ?it/s]"
     ]
    },
    {
     "name": "stdout",
     "output_type": "stream",
     "text": [
      "Scraping Season 18\n"
     ]
    },
    {
     "name": "stderr",
     "output_type": "stream",
     "text": [
      "Season Parser Progress: 100%|██████████| 229/229 [05:50<00:00,  1.53s/it]\n",
      "Season Parser Progress:   0%|          | 0/228 [00:00<?, ?it/s]"
     ]
    },
    {
     "name": "stdout",
     "output_type": "stream",
     "text": [
      "Scraping Season 19\n"
     ]
    },
    {
     "name": "stderr",
     "output_type": "stream",
     "text": [
      "Season Parser Progress: 100%|██████████| 228/228 [04:40<00:00,  1.23s/it]\n",
      "Season Parser Progress:   0%|          | 0/230 [00:00<?, ?it/s]"
     ]
    },
    {
     "name": "stdout",
     "output_type": "stream",
     "text": [
      "Scraping Season 20\n"
     ]
    },
    {
     "name": "stderr",
     "output_type": "stream",
     "text": [
      "Season Parser Progress: 100%|██████████| 230/230 [05:38<00:00,  1.47s/it]\n",
      "Season Parser Progress:   0%|          | 0/230 [00:00<?, ?it/s]"
     ]
    },
    {
     "name": "stdout",
     "output_type": "stream",
     "text": [
      "Scraping Season 21\n"
     ]
    },
    {
     "name": "stderr",
     "output_type": "stream",
     "text": [
      "Season Parser Progress: 100%|██████████| 230/230 [06:58<00:00,  1.82s/it]\n",
      "Season Parser Progress:   0%|          | 0/230 [00:00<?, ?it/s]"
     ]
    },
    {
     "name": "stdout",
     "output_type": "stream",
     "text": [
      "Scraping Season 22\n"
     ]
    },
    {
     "name": "stderr",
     "output_type": "stream",
     "text": [
      "Season Parser Progress: 100%|██████████| 230/230 [06:30<00:00,  1.70s/it]\n",
      "Season Parser Progress:   0%|          | 0/230 [00:00<?, ?it/s]"
     ]
    },
    {
     "name": "stdout",
     "output_type": "stream",
     "text": [
      "Scraping Season 23\n"
     ]
    },
    {
     "name": "stderr",
     "output_type": "stream",
     "text": [
      "Season Parser Progress: 100%|██████████| 230/230 [06:47<00:00,  1.77s/it]\n",
      "Season Parser Progress:   0%|          | 0/230 [00:00<?, ?it/s]"
     ]
    },
    {
     "name": "stdout",
     "output_type": "stream",
     "text": [
      "Scraping Season 24\n"
     ]
    },
    {
     "name": "stderr",
     "output_type": "stream",
     "text": [
      "Season Parser Progress: 100%|██████████| 230/230 [06:48<00:00,  1.77s/it]\n",
      "Season Parser Progress:   0%|          | 0/230 [00:00<?, ?it/s]"
     ]
    },
    {
     "name": "stdout",
     "output_type": "stream",
     "text": [
      "Scraping Season 25\n"
     ]
    },
    {
     "name": "stderr",
     "output_type": "stream",
     "text": [
      "Season Parser Progress: 100%|██████████| 230/230 [06:39<00:00,  1.74s/it]\n",
      "Season Parser Progress:   0%|          | 0/230 [00:00<?, ?it/s]"
     ]
    },
    {
     "name": "stdout",
     "output_type": "stream",
     "text": [
      "Scraping Season 26\n"
     ]
    },
    {
     "name": "stderr",
     "output_type": "stream",
     "text": [
      "Season Parser Progress: 100%|██████████| 230/230 [07:25<00:00,  1.94s/it]\n",
      "Season Parser Progress:   0%|          | 0/230 [00:00<?, ?it/s]"
     ]
    },
    {
     "name": "stdout",
     "output_type": "stream",
     "text": [
      "Scraping Season 27\n"
     ]
    },
    {
     "name": "stderr",
     "output_type": "stream",
     "text": [
      "Season Parser Progress: 100%|██████████| 230/230 [07:23<00:00,  1.93s/it]\n",
      "Season Parser Progress:   0%|          | 0/230 [00:00<?, ?it/s]"
     ]
    },
    {
     "name": "stdout",
     "output_type": "stream",
     "text": [
      "Scraping Season 28\n"
     ]
    },
    {
     "name": "stderr",
     "output_type": "stream",
     "text": [
      "Season Parser Progress: 100%|██████████| 230/230 [07:29<00:00,  1.96s/it]\n",
      "Season Parser Progress:   0%|          | 0/230 [00:00<?, ?it/s]"
     ]
    },
    {
     "name": "stdout",
     "output_type": "stream",
     "text": [
      "Scraping Season 29\n"
     ]
    },
    {
     "name": "stderr",
     "output_type": "stream",
     "text": [
      "Season Parser Progress: 100%|██████████| 230/230 [07:33<00:00,  1.97s/it]\n",
      "Season Parser Progress:   0%|          | 0/230 [00:00<?, ?it/s]"
     ]
    },
    {
     "name": "stdout",
     "output_type": "stream",
     "text": [
      "Scraping Season 30\n"
     ]
    },
    {
     "name": "stderr",
     "output_type": "stream",
     "text": [
      "Season Parser Progress: 100%|██████████| 230/230 [07:10<00:00,  1.87s/it]\n",
      "Season Parser Progress:   0%|          | 0/230 [00:00<?, ?it/s]"
     ]
    },
    {
     "name": "stdout",
     "output_type": "stream",
     "text": [
      "Scraping Season 31\n"
     ]
    },
    {
     "name": "stderr",
     "output_type": "stream",
     "text": [
      "Season Parser Progress: 100%|██████████| 230/230 [08:01<00:00,  2.09s/it]\n",
      "Season Parser Progress:   0%|          | 0/230 [00:00<?, ?it/s]"
     ]
    },
    {
     "name": "stdout",
     "output_type": "stream",
     "text": [
      "Scraping Season 32\n"
     ]
    },
    {
     "name": "stderr",
     "output_type": "stream",
     "text": [
      "Season Parser Progress: 100%|██████████| 230/230 [08:08<00:00,  2.12s/it]\n",
      "Season Parser Progress:   0%|          | 0/230 [00:00<?, ?it/s]"
     ]
    },
    {
     "name": "stdout",
     "output_type": "stream",
     "text": [
      "Scraping Season 33\n"
     ]
    },
    {
     "name": "stderr",
     "output_type": "stream",
     "text": [
      "Season Parser Progress: 100%|██████████| 230/230 [08:02<00:00,  2.10s/it]\n",
      "Season Parser Progress:   0%|          | 0/230 [00:00<?, ?it/s]"
     ]
    },
    {
     "name": "stdout",
     "output_type": "stream",
     "text": [
      "Scraping Season 34\n"
     ]
    },
    {
     "name": "stderr",
     "output_type": "stream",
     "text": [
      "Season Parser Progress: 100%|██████████| 230/230 [07:29<00:00,  1.95s/it]\n",
      "Season Parser Progress:   0%|          | 0/230 [00:00<?, ?it/s]"
     ]
    },
    {
     "name": "stdout",
     "output_type": "stream",
     "text": [
      "Scraping Season 35\n"
     ]
    },
    {
     "name": "stderr",
     "output_type": "stream",
     "text": [
      "Season Parser Progress: 100%|██████████| 230/230 [07:44<00:00,  2.02s/it]\n",
      "Season Parser Progress:   0%|          | 0/190 [00:00<?, ?it/s]"
     ]
    },
    {
     "name": "stdout",
     "output_type": "stream",
     "text": [
      "Scraping Season 36\n"
     ]
    },
    {
     "name": "stderr",
     "output_type": "stream",
     "text": [
      "Season Parser Progress: 100%|██████████| 190/190 [07:04<00:00,  2.24s/it]\n",
      "Season Parser Progress:   0%|          | 0/8 [00:00<?, ?it/s]"
     ]
    },
    {
     "name": "stdout",
     "output_type": "stream",
     "text": [
      "Scraping Season goattournament\n"
     ]
    },
    {
     "name": "stderr",
     "output_type": "stream",
     "text": [
      "Season Parser Progress: 100%|██████████| 8/8 [00:15<00:00,  1.88s/it]\n",
      "Season Parser Progress:   0%|          | 0/230 [00:00<?, ?it/s]"
     ]
    },
    {
     "name": "stdout",
     "output_type": "stream",
     "text": [
      "Scraping Season 37\n"
     ]
    },
    {
     "name": "stderr",
     "output_type": "stream",
     "text": [
      "Season Parser Progress: 100%|██████████| 230/230 [08:49<00:00,  2.30s/it]\n",
      "Season Parser Progress:   0%|          | 0/14 [00:00<?, ?it/s]"
     ]
    },
    {
     "name": "stdout",
     "output_type": "stream",
     "text": [
      "Scraping Season 38\n"
     ]
    },
    {
     "name": "stderr",
     "output_type": "stream",
     "text": [
      "Season Parser Progress: 100%|██████████| 14/14 [00:29<00:00,  2.09s/it]\n"
     ]
    }
   ],
   "source": [
    "jeopardy_parser()"
   ]
  },
  {
   "cell_type": "code",
   "execution_count": null,
   "id": "accessory-stake",
   "metadata": {},
   "outputs": [],
   "source": []
  }
 ],
 "metadata": {
  "kernelspec": {
   "display_name": "mlearn-env",
   "language": "python",
   "name": "mlearn-env"
  },
  "language_info": {
   "codemirror_mode": {
    "name": "ipython",
    "version": 3
   },
   "file_extension": ".py",
   "mimetype": "text/x-python",
   "name": "python",
   "nbconvert_exporter": "python",
   "pygments_lexer": "ipython3",
   "version": "3.7.6"
  }
 },
 "nbformat": 4,
 "nbformat_minor": 5
}
